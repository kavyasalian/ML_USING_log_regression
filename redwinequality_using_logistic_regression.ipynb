{
  "nbformat": 4,
  "nbformat_minor": 0,
  "metadata": {
    "colab": {
      "name": "redwinequality using logistic regression.ipynb",
      "provenance": [],
      "collapsed_sections": [],
      "authorship_tag": "ABX9TyPtTOE7UrHWZriP4kSUztDW",
      "include_colab_link": true
    },
    "kernelspec": {
      "name": "python3",
      "display_name": "Python 3"
    }
  },
  "cells": [
    {
      "cell_type": "markdown",
      "metadata": {
        "id": "view-in-github",
        "colab_type": "text"
      },
      "source": [
        "<a href=\"https://colab.research.google.com/github/kavyasalian/ML_USING_log_regression/blob/master/redwinequality_using_logistic_regression.ipynb\" target=\"_parent\"><img src=\"https://colab.research.google.com/assets/colab-badge.svg\" alt=\"Open In Colab\"/></a>"
      ]
    },
    {
      "cell_type": "code",
      "metadata": {
        "id": "vQ80ImO7tYct",
        "colab_type": "code",
        "colab": {}
      },
      "source": [
        "import numpy as np\n",
        "import pandas as pd\n",
        "import matplotlib.pyplot as plt\n",
        "\n",
        "%matplotlib inline"
      ],
      "execution_count": null,
      "outputs": []
    },
    {
      "cell_type": "code",
      "metadata": {
        "id": "JwpZZch8tlTa",
        "colab_type": "code",
        "colab": {}
      },
      "source": [
        "df = pd.read_csv(\"redwinequality.csv\")"
      ],
      "execution_count": null,
      "outputs": []
    },
    {
      "cell_type": "code",
      "metadata": {
        "id": "TZ3RDiqFtyA8",
        "colab_type": "code",
        "colab": {}
      },
      "source": [
        "grade = [] \n",
        "for i in df['quality']: \n",
        "    if i > 6.5:\n",
        "        i = 1\n",
        "        grade.append(i)\n",
        "    else:\n",
        "        i = 0\n",
        "        grade.append(i)\n",
        "df['grade'] = grade "
      ],
      "execution_count": null,
      "outputs": []
    },
    {
      "cell_type": "code",
      "metadata": {
        "id": "kF5lfIgDt2xc",
        "colab_type": "code",
        "colab": {}
      },
      "source": [
        "df.drop('quality', axis = 1, inplace = True)"
      ],
      "execution_count": null,
      "outputs": []
    },
    {
      "cell_type": "code",
      "metadata": {
        "id": "G-wU8STGt-dg",
        "colab_type": "code",
        "colab": {}
      },
      "source": [
        "x = df.drop('grade', axis =1 )\n",
        "x=df['fixed acidity']\n",
        "y = df['grade']"
      ],
      "execution_count": null,
      "outputs": []
    },
    {
      "cell_type": "code",
      "metadata": {
        "id": "0_PSXGDSwQL6",
        "colab_type": "code",
        "colab": {}
      },
      "source": [
        "x=x.values;\n",
        "y=y.values"
      ],
      "execution_count": null,
      "outputs": []
    },
    {
      "cell_type": "code",
      "metadata": {
        "id": "cisq4R-_uOV2",
        "colab_type": "code",
        "colab": {}
      },
      "source": [
        "x = x/x.mean()"
      ],
      "execution_count": null,
      "outputs": []
    },
    {
      "cell_type": "code",
      "metadata": {
        "id": "X1uAPaijuS4-",
        "colab_type": "code",
        "colab": {}
      },
      "source": [
        "n = int(0.8* len(x))\n",
        "x_train = x[:n]\n",
        "y_train = y[:n]\n",
        "\n",
        "x_test = x[n:]\n",
        "y_test = y[n:]"
      ],
      "execution_count": null,
      "outputs": []
    },
    {
      "cell_type": "code",
      "metadata": {
        "id": "Dm8KTNm7uyya",
        "colab_type": "code",
        "colab": {}
      },
      "source": [
        ""
      ],
      "execution_count": null,
      "outputs": []
    },
    {
      "cell_type": "code",
      "metadata": {
        "id": "Jha8ugfKu5Ly",
        "colab_type": "code",
        "colab": {
          "base_uri": "https://localhost:8080/",
          "height": 282
        },
        "outputId": "b25894ee-662a-4d1d-9f90-cf7e8e479b12"
      },
      "source": [
        "plt.plot(x,y, 'r.')"
      ],
      "execution_count": null,
      "outputs": [
        {
          "output_type": "execute_result",
          "data": {
            "text/plain": [
              "[<matplotlib.lines.Line2D at 0x7f94e781c240>]"
            ]
          },
          "metadata": {
            "tags": []
          },
          "execution_count": 69
        },
        {
          "output_type": "display_data",
          "data": {
            "image/png": "[encoded data removed]",
            "text/plain": [
              "<Figure size 432x288 with 1 Axes>"
            ]
          },
          "metadata": {
            "tags": [],
            "needs_background": "light"
          }
        }
      ]
    },
    {
      "cell_type": "code",
      "metadata": {
        "id": "6wGi4Hm8vcqg",
        "colab_type": "code",
        "colab": {}
      },
      "source": [
        "def sigmoid(x):\n",
        "  return 1/(1+np.exp(-x))"
      ],
      "execution_count": null,
      "outputs": []
    },
    {
      "cell_type": "code",
      "metadata": {
        "id": "fqhaYkzkvgTb",
        "colab_type": "code",
        "colab": {}
      },
      "source": [
        "def error(a,b,x,y):\n",
        "  error = 0\n",
        "  m = len(x)\n",
        "  for i in range(m):\n",
        "    z = a*x[i] + b\n",
        "    error +=y[i] * np.log(sigmoid(z)) + (1-y[i])*np.log(1-sigmoid(z)) \n",
        "  return (-1/m) *error"
      ],
      "execution_count": null,
      "outputs": []
    },
    {
      "cell_type": "code",
      "metadata": {
        "id": "8_2Uimervklg",
        "colab_type": "code",
        "colab": {}
      },
      "source": [
        "def step_gradient(a,b,x,y,learning_rate):\n",
        "  grad_a = 0\n",
        "  grad_b = 0\n",
        "  m = len(x)\n",
        "  for i in range(m):\n",
        "    z = a*x[i] + b\n",
        "    grad_a += 1/m * (sigmoid(z)-y[i]) * x[i]\n",
        "    grad_b += 1/m * (sigmoid(z)-y[i])\n",
        "  a = a - (grad_a * learning_rate)\n",
        "  b = b - (grad_b * learning_rate)\n",
        "\n",
        "  return a,b"
      ],
      "execution_count": null,
      "outputs": []
    },
    {
      "cell_type": "code",
      "metadata": {
        "id": "tNJ0rXOevqQg",
        "colab_type": "code",
        "colab": {}
      },
      "source": [
        "def descend(initial_a, initial_b, x , y, learning_rate, iterations):\n",
        "  a = initial_a\n",
        "  b = initial_b\n",
        "  for i in range(iterations):\n",
        "    e = error(a,b,x,y)\n",
        "    if i %1000 ==0:\n",
        "      print(f'Error: {e}')\n",
        "    a,b = step_gradient(a,b,x,y,learning_rate)\n",
        "  return a,b"
      ],
      "execution_count": null,
      "outputs": []
    },
    {
      "cell_type": "code",
      "metadata": {
        "id": "x7OXd9IWvs1S",
        "colab_type": "code",
        "colab": {}
      },
      "source": [
        "def accuracy(theta, a,b,x,y):\n",
        "  count = 0\n",
        "  for j in range(len(x)):\n",
        "    test = sigmoid(theta)\n",
        "\n",
        "    if test[j] > 0.9:\n",
        "      z = 1\n",
        "    else:\n",
        "      z = 0\n",
        "    if y[j]==z:\n",
        "      count += 1\n",
        "  acc = count / len(y)\n",
        "  print(f\"Error is {100-(acc*100)}\")\n",
        "  print(f\"accuracy is {acc*100}\")"
      ],
      "execution_count": null,
      "outputs": []
    },
    {
      "cell_type": "code",
      "metadata": {
        "id": "ggYfEGgxvyzK",
        "colab_type": "code",
        "colab": {
          "base_uri": "https://localhost:8080/",
          "height": 187
        },
        "outputId": "dc28f3e2-491f-45b7-d1ee-d7b5c028213f"
      },
      "source": [
        "a = 1\n",
        "b = 1\n",
        "learning_rate = 0.01\n",
        "iterations = 10000\n",
        "final_a, final_b = descend(a,b,x_train, y_train, learning_rate, iterations)"
      ],
      "execution_count": null,
      "outputs": [
        {
          "output_type": "stream",
          "text": [
            "Error: 1.8429409048830019\n",
            "Error: 0.4328226943825175\n",
            "Error: 0.4310121173699873\n",
            "Error: 0.43023028312786676\n",
            "Error: 0.4294927759884619\n",
            "Error: 0.42879365250025414\n",
            "Error: 0.4281311114714723\n",
            "Error: 0.42750343148611664\n",
            "Error: 0.4269089534824798\n",
            "Error: 0.42634608028437004\n"
          ],
          "name": "stdout"
        }
      ]
    },
    {
      "cell_type": "code",
      "metadata": {
        "id": "vnREmddbyk-R",
        "colab_type": "code",
        "colab": {
          "base_uri": "https://localhost:8080/",
          "height": 299
        },
        "outputId": "534821dc-2936-4fd5-f798-b0c8b7e06726"
      },
      "source": [
        "f = final_a * x_train + final_b\n",
        "plt.plot(x_train, y_train, 'r.', x_train, sigmoid(f), 'b+')"
      ],
      "execution_count": null,
      "outputs": [
        {
          "output_type": "execute_result",
          "data": {
            "text/plain": [
              "[<matplotlib.lines.Line2D at 0x7f94e7628630>,\n",
              " <matplotlib.lines.Line2D at 0x7f94e7628710>]"
            ]
          },
          "metadata": {
            "tags": []
          },
          "execution_count": 85
        },
        {
          "output_type": "display_data",
          "data": {
            "image/png": "[encoded data removed]",
            "text/plain": [
              "<Figure size 432x288 with 1 Axes>"
            ]
          },
          "metadata": {
            "tags": [],
            "needs_background": "light"
          }
        }
      ]
    },
    {
      "cell_type": "code",
      "metadata": {
        "id": "WQrcFkN_ymB9",
        "colab_type": "code",
        "colab": {
          "base_uri": "https://localhost:8080/",
          "height": 299
        },
        "outputId": "fc8d0dca-46e6-480a-ece0-6e77855ef518"
      },
      "source": [
        "g = final_a * x_test + final_b\n",
        "plt.plot(x_test, y_test, 'g.', x_test, sigmoid(g), 'co')"
      ],
      "execution_count": null,
      "outputs": [
        {
          "output_type": "execute_result",
          "data": {
            "text/plain": [
              "[<matplotlib.lines.Line2D at 0x7f94e758d438>,\n",
              " <matplotlib.lines.Line2D at 0x7f94e758d518>]"
            ]
          },
          "metadata": {
            "tags": []
          },
          "execution_count": 86
        },
        {
          "output_type": "display_data",
          "data": {
            "image/png": "[encoded data removed]",
            "text/plain": [
              "<Figure size 432x288 with 1 Axes>"
            ]
          },
          "metadata": {
            "tags": [],
            "needs_background": "light"
          }
        }
      ]
    },
    {
      "cell_type": "code",
      "metadata": {
        "id": "p1HNPkY3ypEL",
        "colab_type": "code",
        "colab": {
          "base_uri": "https://localhost:8080/",
          "height": 85
        },
        "outputId": "81ab54c0-3497-4a08-a64f-470faf8a0434"
      },
      "source": [
        "accuracy(f, final_a, final_b, x_train, y_train)\n",
        "accuracy(g, final_a, final_b, x_test, y_test)"
      ],
      "execution_count": null,
      "outputs": [
        {
          "output_type": "stream",
          "text": [
            "Error is 15.011727912431581\n",
            "accuracy is 84.98827208756842\n",
            "Error is 7.8125\n",
            "accuracy is 92.1875\n"
          ],
          "name": "stdout"
        }
      ]
    }
  ]
}